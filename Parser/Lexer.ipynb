{
 "cells": [
  {
   "cell_type": "code",
   "execution_count": null,
   "id": "5825cf0e",
   "metadata": {},
   "outputs": [],
   "source": [
    "file = open(\"test_programs/correct.cpp\",\"r\")"
   ]
  },
  {
   "cell_type": "code",
   "execution_count": null,
   "id": "ae15775e",
   "metadata": {},
   "outputs": [],
   "source": [
    "inp = file.read()"
   ]
  },
  {
   "cell_type": "code",
   "execution_count": null,
   "id": "60c76f31",
   "metadata": {},
   "outputs": [],
   "source": [
    "import re\n",
    "inp=re.sub(r'std.*?\\n', '', inp)"
   ]
  },
  {
   "cell_type": "code",
   "execution_count": null,
   "id": "0353966f",
   "metadata": {},
   "outputs": [],
   "source": [
    "inp"
   ]
  },
  {
   "cell_type": "code",
   "execution_count": null,
   "id": "c10fd078",
   "metadata": {},
   "outputs": [],
   "source": [
    "def removeComments(inp):\n",
    "    parsed = \"\"\n",
    "    si = len(inp)\n",
    "    \n",
    "    sing_comm = False\n",
    "    mul_comm = False\n",
    "    i = 0\n",
    "    while i <si:\n",
    "        ch = inp[i]\n",
    "        if sing_comm:\n",
    "            if ch == '\\n':\n",
    "                sing_comm = False                \n",
    "        elif mul_comm:\n",
    "            if ch == '*' and (i+1<si and inp[i+1]=='/'):\n",
    "                mul_comm = False\n",
    "                i+=1\n",
    "                \n",
    "        elif ch == '/':\n",
    "            if i+1<si and inp[i+1]=='/':\n",
    "                sing_comm = True\n",
    "            elif i+1<si and inp[i+1]=='*':\n",
    "                mul_comm = True\n",
    "            else:\n",
    "                parsed+=ch\n",
    "        else:\n",
    "            parsed+=ch\n",
    "        i+=1\n",
    "    return parsed"
   ]
  },
  {
   "cell_type": "code",
   "execution_count": null,
   "id": "27ba9a40",
   "metadata": {},
   "outputs": [],
   "source": [
    "inp = removeComments(inp)"
   ]
  },
  {
   "cell_type": "code",
   "execution_count": null,
   "id": "a6229d35",
   "metadata": {},
   "outputs": [],
   "source": [
    "def checkOperator(c):\n",
    "    ops = [',',';',':','?','[',']','{','}','(',')','+','=','-','|','&','^','*','/','!','<','>']\n",
    "    return c in ops"
   ]
  },
  {
   "cell_type": "code",
   "execution_count": null,
   "id": "d046401b",
   "metadata": {},
   "outputs": [],
   "source": [
    "def checkEqual(c):\n",
    "    ops = ['+','-','*','/','&','|','^','!','<','>', '=']\n",
    "    return c in ops"
   ]
  },
  {
   "cell_type": "code",
   "execution_count": null,
   "id": "d3fe6449",
   "metadata": {},
   "outputs": [],
   "source": [
    "def checkSame(c):\n",
    "    ops = ['+','-','&','|','<','>']\n",
    "    return c in ops"
   ]
  },
  {
   "cell_type": "code",
   "execution_count": null,
   "id": "dc67a844",
   "metadata": {},
   "outputs": [],
   "source": [
    "def checkBrackets(c):\n",
    "    ops = ['[',']','{','}','(',')']\n",
    "    return c in ops"
   ]
  },
  {
   "cell_type": "code",
   "execution_count": null,
   "id": "4ffeb93a",
   "metadata": {},
   "outputs": [],
   "source": [
    "tokens = []\n",
    "\n",
    "temp_str = \"\"\n",
    "si = len(inp)\n",
    "i = 0\n",
    "const_str = False\n",
    "char_lit = False\n",
    "\n",
    "while i<si:\n",
    "    ch = inp[i]\n",
    "    \n",
    "    i+=1\n",
    "    if ch=='\"':\n",
    "        temp_str+=ch\n",
    "        if const_str:\n",
    "            const_str = False\n",
    "        else:\n",
    "            const_str = True\n",
    "        continue\n",
    "    \n",
    "    if ch=='\\'':\n",
    "        temp_str+=ch\n",
    "        if char_lit:\n",
    "            char_lit = False\n",
    "        else:\n",
    "            char_lit = True\n",
    "        continue\n",
    "    \n",
    "    if const_str or char_lit:\n",
    "        temp_str+=ch\n",
    "        continue\n",
    "    \n",
    "    if ch==' ' or ch=='\\t' or ch=='\\n' :\n",
    "        if temp_str!=\"\":\n",
    "            tokens.append(temp_str)\n",
    "            temp_str = \"\"\n",
    "    elif checkOperator(ch):\n",
    "        if temp_str!=\"\":\n",
    "            tokens.append(temp_str)\n",
    "            temp_str = \"\"\n",
    "        \n",
    "        if checkBrackets(ch):\n",
    "            tokens.append(ch)\n",
    "            continue\n",
    "            \n",
    "        if ch == '-':\n",
    "            if i<si and inp[i]=='>':\n",
    "                tokens.append(\"->\")\n",
    "                i+=1\n",
    "                continue\n",
    "        \n",
    "        if checkSame(ch):\n",
    "            if i<si and inp[i]==ch:\n",
    "                tokens.append(\"\"+ch+ch)\n",
    "                i+=1\n",
    "                continue\n",
    "                \n",
    "        if checkEqual(ch):\n",
    "            if i<si and inp[i]=='=':\n",
    "                tokens.append(\"\"+ch+\"=\")\n",
    "                i+=1\n",
    "                continue\n",
    "        \n",
    "        tokens.append(ch)\n",
    "    else:\n",
    "        temp_str+=ch      "
   ]
  },
  {
   "cell_type": "code",
   "execution_count": null,
   "id": "79633aa3",
   "metadata": {},
   "outputs": [],
   "source": [
    "tokens"
   ]
  },
  {
   "cell_type": "code",
   "execution_count": null,
   "id": "4e9ee2fa",
   "metadata": {},
   "outputs": [],
   "source": []
  }
 ],
 "metadata": {
  "kernelspec": {
   "display_name": "Python 3 (ipykernel)",
   "language": "python",
   "name": "python3"
  },
  "language_info": {
   "codemirror_mode": {
    "name": "ipython",
    "version": 3
   },
   "file_extension": ".py",
   "mimetype": "text/x-python",
   "name": "python",
   "nbconvert_exporter": "python",
   "pygments_lexer": "ipython3",
   "version": "3.10.1"
  },
  "vscode": {
   "interpreter": {
    "hash": "2989b705f35e5f39577c13e2abe37855b396301a6126773aa2a796deedf0eba4"
   }
  }
 },
 "nbformat": 4,
 "nbformat_minor": 5
}
